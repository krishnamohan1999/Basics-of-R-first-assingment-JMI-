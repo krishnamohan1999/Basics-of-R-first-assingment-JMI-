{
 "cells": [
  {
   "cell_type": "markdown",
   "id": "e73acba7",
   "metadata": {},
   "source": [
    "# Write a R program to find the sum, product and average of elements of a vector having length n. Ask the user to enter the value of n."
   ]
  },
  {
   "cell_type": "code",
   "execution_count": 2,
   "id": "85189b34",
   "metadata": {},
   "outputs": [
    {
     "name": "stdout",
     "output_type": "stream",
     "text": [
      "Enter the length of vector: 3\n",
      "Enter element No.  1 :10\n",
      "Enter element No.  2 :20\n",
      "Enter element No.  3 :30\n"
     ]
    },
    {
     "data": {
      "text/html": [
       "60"
      ],
      "text/latex": [
       "60"
      ],
      "text/markdown": [
       "60"
      ],
      "text/plain": [
       "[1] 60"
      ]
     },
     "metadata": {},
     "output_type": "display_data"
    },
    {
     "data": {
      "text/html": [
       "6000"
      ],
      "text/latex": [
       "6000"
      ],
      "text/markdown": [
       "6000"
      ],
      "text/plain": [
       "[1] 6000"
      ]
     },
     "metadata": {},
     "output_type": "display_data"
    },
    {
     "data": {
      "text/html": [
       "20"
      ],
      "text/latex": [
       "20"
      ],
      "text/markdown": [
       "20"
      ],
      "text/plain": [
       "[1] 20"
      ]
     },
     "metadata": {},
     "output_type": "display_data"
    }
   ],
   "source": [
    "n <- as.integer(readline(\"Enter the length of vector: \"))\n",
    "for(i in 1:n)\n",
    "{\n",
    "n[i] <- as.integer(readline(paste(\"Enter element No. \", i, \":\")))\n",
    "}\n",
    "\n",
    "\n",
    "sum(n)\n",
    "prod(n)\n",
    "mean(n)"
   ]
  },
  {
   "cell_type": "markdown",
   "id": "d4a70c35",
   "metadata": {},
   "source": [
    "\n",
    "# Write a R program to evaluate whether a number is even or odd."
   ]
  },
  {
   "cell_type": "code",
   "execution_count": 3,
   "id": "0fdd6305",
   "metadata": {},
   "outputs": [
    {
     "name": "stdout",
     "output_type": "stream",
     "text": [
      "Enter a number you want to check even or odd:78\n",
      "[1] \"78  is even number\"\n"
     ]
    }
   ],
   "source": [
    "n <- as.integer(readline(\"Enter a number you want to check even or odd:\"))\n",
    "if(n%%2 == 0)\n",
    "{\n",
    "print(paste(n, \" is even number\"))\n",
    "} else\n",
    "{\n",
    "print(paste(n, \" is odd number\"))\n",
    "}"
   ]
  },
  {
   "cell_type": "markdown",
   "id": "4f1b89db",
   "metadata": {},
   "source": [
    "# Write a R program to evaluate whether a number is prime or not."
   ]
  },
  {
   "cell_type": "code",
   "execution_count": 4,
   "id": "8811978d",
   "metadata": {},
   "outputs": [
    {
     "name": "stdout",
     "output_type": "stream",
     "text": [
      "Enter a number to check prime or not:101\n",
      "[1] \"101 is a prime no,\"\n"
     ]
    }
   ],
   "source": [
    "n = as.integer(readline(\"Enter a number to check prime or not:\"))\n",
    "count = 0\n",
    "for(i in 1:n)\n",
    "{\n",
    "if(n%%i == 0)\n",
    "count=count+1\n",
    "}\n",
    "if(count == 2)\n",
    "{\n",
    "print(paste(n, \"is a prime no,\"))\n",
    "} else\n",
    "{\n",
    "print(paste(n, \"is not a prime no.\"))\n",
    "}"
   ]
  },
  {
   "cell_type": "markdown",
   "id": "8b2ee076",
   "metadata": {},
   "source": [
    "# Write a R program to find the roots of a quadratic equation of the form:\n",
    "ax2 + bx + c = 0, where x represents a variable, and a, b, and c represent constants such that a≠0. Display roots along with a message according to the nature of the roots such as “real and distinct”, “real but not distinct” or “complex”."
   ]
  },
  {
   "cell_type": "code",
   "execution_count": 7,
   "id": "4d6b24dd",
   "metadata": {},
   "outputs": [
    {
     "name": "stdout",
     "output_type": "stream",
     "text": [
      "Enter the value of x2 cofficient:1\n",
      "Enter the value of x cofficient:-5\n",
      "Enter the value of constant:6\n",
      "[1] \"the roots of equation are: 3 and 2 which are\\nreal and distinct.\"\n"
     ]
    }
   ],
   "source": [
    "a <- as.integer(readline(\"Enter the value of x2 cofficient:\"))\n",
    "b <- as.integer(readline(\"Enter the value of x cofficient:\"))\n",
    "c <- as.integer(readline(\"Enter the value of constant:\"))\n",
    "x <- (b^2)-(4*a*c)\n",
    "if(x==0)\n",
    "    {\n",
    "first_root = (-b)/(2*a)\n",
    "second_root = (-b)/(2*a)\n",
    "print(paste(\"the roots of equation are:\", first_root, \"and\", second_root, \"which are\n",
    "real but not distinct.\"))\n",
    "} else if (x > 0)\n",
    "{\n",
    "first_root = ((-b)+x)/(2*a)\n",
    "second_root = ((-b)-x)/(2*a)\n",
    "print(paste(\"the roots of equation are:\", first_root, \"and\", second_root, \"which are\n",
    "real and distinct.\"))\n",
    "} else\n",
    "{\n",
    "first_root = ((-b)+x)/(2*a)\n",
    "second_root = ((-b)-x)/(2*a)\n",
    "print(paste(\"the roots of equation are:\", first_root, \"and\", second_root, \"which are\n",
    "complex.\"))\n",
    "}"
   ]
  },
  {
   "cell_type": "markdown",
   "id": "2f7d25fd",
   "metadata": {},
   "source": [
    "# Write a R program to display all prime numbers between a given range. Ask the user to enter the lower and upper boundaries of range."
   ]
  },
  {
   "cell_type": "code",
   "execution_count": 5,
   "id": "9a92a958",
   "metadata": {},
   "outputs": [
    {
     "name": "stdout",
     "output_type": "stream",
     "text": [
      "Enter lower limit:1\n",
      "Enter upper limit:30\n",
      "[1] \"2 is a prime no.\"\n",
      "[1] \"3 is a prime no.\"\n",
      "[1] \"5 is a prime no.\"\n",
      "[1] \"7 is a prime no.\"\n",
      "[1] \"11 is a prime no.\"\n",
      "[1] \"13 is a prime no.\"\n",
      "[1] \"17 is a prime no.\"\n",
      "[1] \"19 is a prime no.\"\n",
      "[1] \"23 is a prime no.\"\n",
      "[1] \"29 is a prime no.\"\n"
     ]
    }
   ],
   "source": [
    "a <- as.integer(readline(\"Enter lower limit:\"))\n",
    "b <- as.integer(readline(\"Enter upper limit:\"))\n",
    "for(i in a:b)\n",
    "{\n",
    "count = 0\n",
    "for(x in 1:i)\n",
    "{\n",
    "if(i%%x==0)\n",
    "count=count+1\n",
    "}\n",
    "if(count==2)\n",
    "{\n",
    "print(paste(i, \"is a prime no.\"))\n",
    "} else\n",
    "{\n",
    "return\n",
    "}\n",
    "}"
   ]
  },
  {
   "cell_type": "markdown",
   "id": "a7994bb6",
   "metadata": {},
   "source": [
    "# Write a R program to find the smallest and greatest elements of a vector having n elements. Display the index of both the elements as well."
   ]
  },
  {
   "cell_type": "code",
   "execution_count": 10,
   "id": "39a37368",
   "metadata": {},
   "outputs": [
    {
     "name": "stdout",
     "output_type": "stream",
     "text": [
      "Enter the length of vector: 3\n",
      "Enter element no.  1 :3\n",
      "Enter element no.  2 :6\n",
      "Enter element no.  3 :9\n"
     ]
    },
    {
     "data": {
      "text/html": [
       "9"
      ],
      "text/latex": [
       "9"
      ],
      "text/markdown": [
       "9"
      ],
      "text/plain": [
       "[1] 9"
      ]
     },
     "metadata": {},
     "output_type": "display_data"
    },
    {
     "data": {
      "text/html": [
       "3"
      ],
      "text/latex": [
       "3"
      ],
      "text/markdown": [
       "3"
      ],
      "text/plain": [
       "[1] 3"
      ]
     },
     "metadata": {},
     "output_type": "display_data"
    },
    {
     "data": {
      "text/html": [
       "3"
      ],
      "text/latex": [
       "3"
      ],
      "text/markdown": [
       "3"
      ],
      "text/plain": [
       "[1] 3"
      ]
     },
     "metadata": {},
     "output_type": "display_data"
    },
    {
     "data": {
      "text/html": [
       "1"
      ],
      "text/latex": [
       "1"
      ],
      "text/markdown": [
       "1"
      ],
      "text/plain": [
       "[1] 1"
      ]
     },
     "metadata": {},
     "output_type": "display_data"
    }
   ],
   "source": [
    "n <-  as.integer(readline(\"Enter the length of vector: \"))\n",
    "for(i in 1:n)\n",
    "{\n",
    "n[i] <-  as.integer(readline(paste(\"Enter element no. \", i, \":\")))\n",
    "}\n",
    "max(n)\n",
    "min(n)\n",
    "which.max(n)\n",
    "which.min(n)"
   ]
  },
  {
   "cell_type": "markdown",
   "id": "e5ac0b5b",
   "metadata": {},
   "source": [
    "# Write a R program to find the factorial of a given number."
   ]
  },
  {
   "cell_type": "code",
   "execution_count": 6,
   "id": "94ef0bf8",
   "metadata": {},
   "outputs": [
    {
     "name": "stdout",
     "output_type": "stream",
     "text": [
      "Enter a number to check the Factorial:8\n",
      "[1] \"Factorial of 8 is 40320 Thank you!\"\n"
     ]
    }
   ],
   "source": [
    "num <- as.integer(readline(\"Enter a number to check the Factorial:\"))\n",
    "factorial = 1\n",
    "if(num < 0)\n",
    "{\n",
    "print(\"Factorial doesn't exist\")\n",
    "} else if(num==0)\n",
    "{\n",
    "print(\"Factorial of 0 is 1\")\n",
    "} else\n",
    "{\n",
    "for(i in 1:num)\n",
    "{\n",
    "factorial=factorial*i\n",
    "}\n",
    "print(paste(\"Factorial of\", num, \"is\", factorial ,\"Thank you!\"))\n",
    "}"
   ]
  },
  {
   "cell_type": "markdown",
   "id": "0794480a",
   "metadata": {},
   "source": [
    "# Write a R program to find the sum, product and average of digits of a number and display accordingly."
   ]
  },
  {
   "cell_type": "code",
   "execution_count": 17,
   "id": "474c9556",
   "metadata": {},
   "outputs": [
    {
     "name": "stdout",
     "output_type": "stream",
     "text": [
      "Enter a large no: 345\n",
      "[1] \"the sum of digits is 12\"\n",
      "[1] \"the product of digits is 60\"\n",
      "[1] \"the average of digits is 4\"\n",
      "[1] \"Thank you for your Time!\"\n"
     ]
    }
   ],
   "source": [
    "num <- as.integer(readline(\"Enter a large no: \"))\n",
    "count = 0\n",
    "sum = 0\n",
    "prod = 1\n",
    "average = 0\n",
    "while(num > 0)\n",
    "{\n",
    "d = num %% 10\n",
    "sum = sum + d\n",
    "prod = prod*d\n",
    "num = as.integer(num/10)\n",
    "count=count+1\n",
    "}\n",
    "average = sum/count\n",
    "print(paste(\"the sum of digits is\", sum))\n",
    "print(paste(\"the product of digits is\", prod))\n",
    "print(paste(\"the average of digits is\", average))\n",
    "print(\"Thank you for your Time!\")"
   ]
  },
  {
   "cell_type": "markdown",
   "id": "92e87f75",
   "metadata": {},
   "source": [
    "# Write a R program to check whether a given number is Palindrome or not."
   ]
  },
  {
   "cell_type": "code",
   "execution_count": 19,
   "id": "f9f50032",
   "metadata": {},
   "outputs": [
    {
     "name": "stdout",
     "output_type": "stream",
     "text": [
      "Enter a number: 121\n",
      "[1] \"121 is palindrome\"\n"
     ]
    }
   ],
   "source": [
    "n <- as.integer(readline(\"Enter a number: \"))\n",
    "g = n\n",
    "reverse = 0\n",
    "while(n!=0)\n",
    "{\n",
    "reverse = (reverse*10) + (n %% 10)\n",
    "n = as.integer(n/10)\n",
    "}\n",
    "if(g==reverse)\n",
    "{\n",
    "print(paste(g, \"is palindrome\"))\n",
    "} else\n",
    "{\n",
    "print(paste(g, \"is not palindrome\"))\n",
    "}"
   ]
  },
  {
   "cell_type": "markdown",
   "id": "1b5d3e1f",
   "metadata": {},
   "source": [
    "# Write a R program to check whether a given number is Armstrong or not."
   ]
  },
  {
   "cell_type": "code",
   "execution_count": 20,
   "id": "96842cb3",
   "metadata": {},
   "outputs": [
    {
     "name": "stdout",
     "output_type": "stream",
     "text": [
      "enter a number: 370\n",
      "[1] \"370 is armstrong no.\"\n"
     ]
    }
   ],
   "source": [
    "num <- as.integer(readline(\"enter a number: \"))\n",
    "sum = 0\n",
    "u = num\n",
    "while(u > 0)\n",
    "{\n",
    "digit = u %% 10\n",
    "sum = sum + (digit^3)\n",
    "u = as.integer(u/10)\n",
    "}\n",
    "if(num==sum)\n",
    "{\n",
    "print(paste(num, \"is armstrong no.\"))\n",
    "} else\n",
    "{\n",
    "print(paste(num, \"is not armstrong no.\"))\n",
    "}"
   ]
  },
  {
   "cell_type": "markdown",
   "id": "58bd37b8",
   "metadata": {},
   "source": [
    "# Write a R program to print the first n Fibonacci numbers. Ask the user to enter the value of n, where n indicates how many numbers to be displayed."
   ]
  },
  {
   "cell_type": "code",
   "execution_count": 1,
   "id": "fa87b33a",
   "metadata": {},
   "outputs": [
    {
     "name": "stdout",
     "output_type": "stream",
     "text": [
      "Hey Fibonacci lover, how many numbers to be displayed: 30\n",
      "[1] 0\n",
      "[1] 1\n",
      "[1] 1\n",
      "[1] 2\n",
      "[1] 4\n",
      "[1] 8\n",
      "[1] 16\n",
      "[1] 32\n",
      "[1] 64\n",
      "[1] 128\n",
      "[1] 256\n",
      "[1] 512\n",
      "[1] 1024\n",
      "[1] 2048\n",
      "[1] 4096\n",
      "[1] 8192\n",
      "[1] 16384\n",
      "[1] 32768\n",
      "[1] 65536\n",
      "[1] 131072\n",
      "[1] 262144\n",
      "[1] 524288\n",
      "[1] 1048576\n",
      "[1] 2097152\n",
      "[1] 4194304\n",
      "[1] 8388608\n",
      "[1] 16777216\n",
      "[1] 33554432\n",
      "[1] 67108864\n",
      "[1] 134217728\n"
     ]
    }
   ],
   "source": [
    "n <- as.integer(readline(\"Hey Fibonacci lover, how many numbers to be displayed: \"))\n",
    "a = 0\n",
    "b = 1\n",
    "print(a)\n",
    "print(b)\n",
    "for(i in 3:n)\n",
    "{\n",
    "c = a + b\n",
    "b = c\n",
    "a = b\n",
    "print(c)\n",
    "}"
   ]
  }
 ],
 "metadata": {
  "kernelspec": {
   "display_name": "R",
   "language": "R",
   "name": "ir"
  },
  "language_info": {
   "codemirror_mode": "r",
   "file_extension": ".r",
   "mimetype": "text/x-r-source",
   "name": "R",
   "pygments_lexer": "r",
   "version": "3.6.1"
  }
 },
 "nbformat": 4,
 "nbformat_minor": 5
}
